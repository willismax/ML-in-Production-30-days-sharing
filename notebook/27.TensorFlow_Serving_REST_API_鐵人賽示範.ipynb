{
  "nbformat": 4,
  "nbformat_minor": 0,
  "metadata": {
    "accelerator": "GPU",
    "colab": {
      "name": " TensorFlow Serving REST API - 鐵人賽示範",
      "provenance": [],
      "collapsed_sections": [],
      "include_colab_link": true
    },
    "kernelspec": {
      "display_name": "Python 3",
      "name": "python3"
    }
  },
  "cells": [
    {
      "cell_type": "markdown",
      "metadata": {
        "id": "view-in-github",
        "colab_type": "text"
      },
      "source": [
        "<a href=\"https://colab.research.google.com/github/willismax/ML-in-Production-30-days-sharing/blob/main/notebook/27.TensorFlow_Serving_REST_API_%E9%90%B5%E4%BA%BA%E8%B3%BD%E7%A4%BA%E7%AF%84.ipynb\" target=\"_parent\"><img src=\"https://colab.research.google.com/assets/colab-badge.svg\" alt=\"Open In Colab\"/></a>"
      ]
    },
    {
      "cell_type": "markdown",
      "metadata": {
        "id": "S5nn0mY2yE2m"
      },
      "source": [
        "#  TensorFlow Serving REST API - 鐵人賽示範"
      ]
    },
    {
      "cell_type": "markdown",
      "metadata": {
        "id": "lb-_tS0KySku"
      },
      "source": [
        "- 本篇為[鐵人賽](https://ithelp.ithome.com.tw/articles/10272257)示範，參考[官方範例](https://www.tensorflow.org/tfx/tutorials/serving/rest_simple)修改而成。\n",
        "- 本篇適用在 Colab 環境。"
      ]
    },
    {
      "cell_type": "markdown",
      "metadata": {
        "id": "XoFq6Ldy1wg4"
      },
      "source": [
        "## 下載資料及訓練模型"
      ]
    },
    {
      "cell_type": "markdown",
      "metadata": {
        "id": "_k1qMmG813Lr"
      },
      "source": [
        "- 由於重點在如何起一個TF Severing 服務，資料採用`keras.datasets.cifar10`進行示範，[CIFAR10](https://keras.io/api/datasets/cifar10/)為小型的影像分類資料集，具有50,000筆訓練資料集與10,000筆測試資料集，皆為32X32像素圖片。更多資訊參閱[官方介紹](https://www.cs.toronto.edu/~kriz/cifar.html)。"
      ]
    },
    {
      "cell_type": "markdown",
      "metadata": {
        "id": "9aHO4au43WsH"
      },
      "source": [
        "\n",
        "|Label| Description|\n",
        "|-|-|\n",
        "| 0 | airplane |\n",
        "| 1 | automobile |\n",
        "| 2 | bird |\n",
        "| 3 | cat |\n",
        "| 4 | deer |\n",
        "| 5 | dog |\n",
        "| 6 | frog |\n",
        "| 7 | horse |\n",
        "| 8 | ship |\n",
        "| 9 | truck |"
      ]
    },
    {
      "cell_type": "code",
      "metadata": {
        "id": "dzLKpmZICaWN"
      },
      "source": [
        "# TensorFlow and tf.keras\n",
        "# !pip install -Uq grpcio==1.26.0\n",
        "\n",
        "import tensorflow as tf\n",
        "from tensorflow import keras\n",
        "import numpy as np\n",
        "import matplotlib.pyplot as plt\n",
        "import os\n",
        "import subprocess"
      ],
      "execution_count": 1,
      "outputs": []
    },
    {
      "cell_type": "markdown",
      "metadata": {
        "id": "5jAk1ZXqTJqN"
      },
      "source": [
        "- 建立模型"
      ]
    },
    {
      "cell_type": "code",
      "metadata": {
        "id": "7MqDQO0KCaWS",
        "colab": {
          "base_uri": "https://localhost:8080/"
        },
        "outputId": "b88fbfeb-8815-4d3c-da2d-2fc9b0554649"
      },
      "source": [
        "fashion_mnist = keras.datasets.cifar10\n",
        "(train_images, train_labels), (test_images, test_labels) = fashion_mnist.load_data()\n",
        "\n",
        "# scale the values to 0.0 to 1.0\n",
        "train_images = train_images / 255.0\n",
        "test_images = test_images / 255.0\n",
        "\n",
        "# reshape for feeding into the model\n",
        "train_images = train_images.reshape(train_images.shape[0], 32, 32, 3)\n",
        "test_images = test_images.reshape(test_images.shape[0], 32, 32, 3)\n",
        "\n",
        "class_names = ['airplane','automobile','bird','cat','deer','dog','frog','horse','ship','truck']\n",
        "\n",
        "\n",
        "print(f'train_images.shape: {train_images.shape}, of {train_images.dtype}')\n",
        "print(f'test_images.shape: {test_images.shape}, of {test_images.dtype}')"
      ],
      "execution_count": 2,
      "outputs": [
        {
          "output_type": "stream",
          "name": "stdout",
          "text": [
            "Downloading data from https://www.cs.toronto.edu/~kriz/cifar-10-python.tar.gz\n",
            "170500096/170498071 [==============================] - 3s 0us/step\n",
            "170508288/170498071 [==============================] - 3s 0us/step\n",
            "train_images.shape: (50000, 32, 32, 3), of float64\n",
            "test_images.shape: (10000, 32, 32, 3), of float64\n"
          ]
        }
      ]
    },
    {
      "cell_type": "markdown",
      "metadata": {
        "id": "PDu7OX8Nf5PY"
      },
      "source": [
        "- 訓練與評估模型"
      ]
    },
    {
      "cell_type": "code",
      "metadata": {
        "id": "LTNN0ANGgA36",
        "colab": {
          "base_uri": "https://localhost:8080/"
        },
        "outputId": "7e851cf5-c39a-45e5-b151-259172f9071e"
      },
      "source": [
        "model = keras.Sequential([\n",
        "  keras.layers.Conv2D(\n",
        "      input_shape=(32,32,3), \n",
        "      filters=8, \n",
        "      kernel_size=3, \n",
        "      strides=2, \n",
        "      activation='relu', \n",
        "      name='Conv1'),\n",
        "  keras.layers.Flatten(),\n",
        "  keras.layers.Dense(10, name='Dense')\n",
        "])\n",
        "model.summary()\n",
        "\n",
        "testing = False\n",
        "epochs = 5\n",
        "\n",
        "model.compile(\n",
        "    optimizer='adam', \n",
        "    loss=tf.keras.losses.SparseCategoricalCrossentropy(from_logits=True),\n",
        "    metrics=[keras.metrics.SparseCategoricalAccuracy()]\n",
        "    )\n",
        "model.fit(train_images, train_labels, epochs=epochs)\n",
        "\n",
        "test_loss, test_acc = model.evaluate(test_images, test_labels)\n",
        "print(f'Test accuracy: {test_acc}')"
      ],
      "execution_count": 3,
      "outputs": [
        {
          "output_type": "stream",
          "name": "stdout",
          "text": [
            "Model: \"sequential\"\n",
            "_________________________________________________________________\n",
            " Layer (type)                Output Shape              Param #   \n",
            "=================================================================\n",
            " Conv1 (Conv2D)              (None, 15, 15, 8)         224       \n",
            "                                                                 \n",
            " flatten (Flatten)           (None, 1800)              0         \n",
            "                                                                 \n",
            " Dense (Dense)               (None, 10)                18010     \n",
            "                                                                 \n",
            "=================================================================\n",
            "Total params: 18,234\n",
            "Trainable params: 18,234\n",
            "Non-trainable params: 0\n",
            "_________________________________________________________________\n",
            "Epoch 1/5\n",
            "1563/1563 [==============================] - 15s 3ms/step - loss: 1.7449 - sparse_categorical_accuracy: 0.3896\n",
            "Epoch 2/5\n",
            "1563/1563 [==============================] - 4s 3ms/step - loss: 1.5220 - sparse_categorical_accuracy: 0.4709\n",
            "Epoch 3/5\n",
            "1563/1563 [==============================] - 4s 3ms/step - loss: 1.4336 - sparse_categorical_accuracy: 0.5014\n",
            "Epoch 4/5\n",
            "1563/1563 [==============================] - 4s 3ms/step - loss: 1.3628 - sparse_categorical_accuracy: 0.5241\n",
            "Epoch 5/5\n",
            "1563/1563 [==============================] - 4s 3ms/step - loss: 1.3165 - sparse_categorical_accuracy: 0.5400\n",
            "313/313 [==============================] - 1s 2ms/step - loss: 1.3758 - sparse_categorical_accuracy: 0.5155\n",
            "Test accuracy: 0.515500009059906\n"
          ]
        }
      ]
    },
    {
      "cell_type": "markdown",
      "metadata": {
        "id": "ox5jCIiEAzwm"
      },
      "source": [
        "### 儲存模型"
      ]
    },
    {
      "cell_type": "markdown",
      "metadata": {
        "id": "AiYfSF8wA2ZV"
      },
      "source": [
        "- 將模型保存為[SavedModel](https://www.tensorflow.org/versions/r1.15/api_docs/python/tf/saved_model)格式，以便將模型加載到 TensorFlow Serving 中。\n",
        "- [TensorFlow Serving](https://www.tensorflow.org/tfx/guide/serving)允許我們在發出推理請求時選擇要使用的模型版本或“可服務”版本。每個版本將導出到給定路徑下的不同子目錄。為此，需在目錄創建 protobuf 文件，並將包含一個版本號。 \n",
        "- 以下會在`/tmp/`建立版次版次`version = 1`之相關檔案。"
      ]
    },
    {
      "cell_type": "code",
      "metadata": {
        "id": "0w5Rq8SsgWE6",
        "colab": {
          "base_uri": "https://localhost:8080/"
        },
        "outputId": "c3659b46-0cdb-4250-d84f-808b01f41e69"
      },
      "source": [
        "import tempfile\n",
        "\n",
        "MODEL_DIR = tempfile.gettempdir()\n",
        "version = 1\n",
        "export_path = os.path.join(MODEL_DIR, str(version))\n",
        "print(f'export_path = {export_path}')\n",
        "\n",
        "tf.keras.models.save_model(\n",
        "    model,\n",
        "    export_path,\n",
        "    overwrite=True,\n",
        "    include_optimizer=True,\n",
        "    save_format=None,\n",
        "    signatures=None,\n",
        "    options=None\n",
        ")\n",
        "\n",
        "print('\\nSaved model:')\n",
        "!ls -l {export_path}"
      ],
      "execution_count": 4,
      "outputs": [
        {
          "output_type": "stream",
          "name": "stdout",
          "text": [
            "export_path = /tmp/1\n"
          ]
        },
        {
          "output_type": "stream",
          "name": "stderr",
          "text": [
            "WARNING:absl:Function `_wrapped_model` contains input name(s) Conv1_input with unsupported characters which will be renamed to conv1_input in the SavedModel.\n"
          ]
        },
        {
          "output_type": "stream",
          "name": "stdout",
          "text": [
            "INFO:tensorflow:Assets written to: /tmp/1/assets\n"
          ]
        },
        {
          "output_type": "stream",
          "name": "stderr",
          "text": [
            "INFO:tensorflow:Assets written to: /tmp/1/assets\n"
          ]
        },
        {
          "output_type": "stream",
          "name": "stdout",
          "text": [
            "\n",
            "Saved model:\n",
            "total 92\n",
            "drwxr-xr-x 2 root root  4096 May 19 05:07 assets\n",
            "-rw-r--r-- 1 root root  8228 May 19 05:07 keras_metadata.pb\n",
            "-rw-r--r-- 1 root root 72310 May 19 05:07 saved_model.pb\n",
            "drwxr-xr-x 2 root root  4096 May 19 05:07 variables\n"
          ]
        }
      ]
    },
    {
      "cell_type": "markdown",
      "metadata": {
        "id": "Z2eQZCmQEWw9"
      },
      "source": [
        "### 檢查我們的Saved model"
      ]
    },
    {
      "cell_type": "markdown",
      "metadata": {
        "id": "ECeTIcFoEl8A"
      },
      "source": [
        "- `saved_model_cli` 可以檢查前述[SavedModel](https://www.tensorflow.org/versions/r1.15/api_docs/python/tf/MetaGraphDef)中相關資訊，這對理解模型相當有用，包含:\n",
        "  - [MetaGraphDefs](https://www.tensorflow.org/versions/r1.15/api_docs/python/tf/MetaGraphDef)（模型）\n",
        "  - [SignatureDefs](https://www.tensorflow.org/tfx/tutorials/signature_defs)（您可以調用的方法）\n",
        "- SavedModel CLI的詳細說明可參閱[TensorFlow 指南](https://github.com/tensorflow/docs/blob/master/site/en/r1/guide/saved_model.md#cli-to-inspect-and-execute-savedmodel)。"
      ]
    },
    {
      "cell_type": "code",
      "metadata": {
        "id": "LU4GDF_aYtfQ",
        "colab": {
          "base_uri": "https://localhost:8080/"
        },
        "outputId": "1660f31e-964c-4c1f-accc-38bf33429400"
      },
      "source": [
        "!saved_model_cli show --dir {export_path} --all"
      ],
      "execution_count": 5,
      "outputs": [
        {
          "output_type": "stream",
          "name": "stdout",
          "text": [
            "\n",
            "MetaGraphDef with tag-set: 'serve' contains the following SignatureDefs:\n",
            "\n",
            "signature_def['__saved_model_init_op']:\n",
            "  The given SavedModel SignatureDef contains the following input(s):\n",
            "  The given SavedModel SignatureDef contains the following output(s):\n",
            "    outputs['__saved_model_init_op'] tensor_info:\n",
            "        dtype: DT_INVALID\n",
            "        shape: unknown_rank\n",
            "        name: NoOp\n",
            "  Method name is: \n",
            "\n",
            "signature_def['serving_default']:\n",
            "  The given SavedModel SignatureDef contains the following input(s):\n",
            "    inputs['Conv1_input'] tensor_info:\n",
            "        dtype: DT_FLOAT\n",
            "        shape: (-1, 32, 32, 3)\n",
            "        name: serving_default_Conv1_input:0\n",
            "  The given SavedModel SignatureDef contains the following output(s):\n",
            "    outputs['Dense'] tensor_info:\n",
            "        dtype: DT_FLOAT\n",
            "        shape: (-1, 10)\n",
            "        name: StatefulPartitionedCall:0\n",
            "  Method name is: tensorflow/serving/predict\n",
            "\n",
            "Concrete Functions:\n",
            "  Function Name: '__call__'\n",
            "    Option #1\n",
            "      Callable with:\n",
            "        Argument #1\n",
            "          Conv1_input: TensorSpec(shape=(None, 32, 32, 3), dtype=tf.float32, name='Conv1_input')\n",
            "        Argument #2\n",
            "          DType: bool\n",
            "          Value: True\n",
            "        Argument #3\n",
            "          DType: NoneType\n",
            "          Value: None\n",
            "    Option #2\n",
            "      Callable with:\n",
            "        Argument #1\n",
            "          inputs: TensorSpec(shape=(None, 32, 32, 3), dtype=tf.float32, name='inputs')\n",
            "        Argument #2\n",
            "          DType: bool\n",
            "          Value: True\n",
            "        Argument #3\n",
            "          DType: NoneType\n",
            "          Value: None\n",
            "    Option #3\n",
            "      Callable with:\n",
            "        Argument #1\n",
            "          inputs: TensorSpec(shape=(None, 32, 32, 3), dtype=tf.float32, name='inputs')\n",
            "        Argument #2\n",
            "          DType: bool\n",
            "          Value: False\n",
            "        Argument #3\n",
            "          DType: NoneType\n",
            "          Value: None\n",
            "    Option #4\n",
            "      Callable with:\n",
            "        Argument #1\n",
            "          Conv1_input: TensorSpec(shape=(None, 32, 32, 3), dtype=tf.float32, name='Conv1_input')\n",
            "        Argument #2\n",
            "          DType: bool\n",
            "          Value: False\n",
            "        Argument #3\n",
            "          DType: NoneType\n",
            "          Value: None\n",
            "\n",
            "  Function Name: '_default_save_signature'\n",
            "    Option #1\n",
            "      Callable with:\n",
            "        Argument #1\n",
            "          Conv1_input: TensorSpec(shape=(None, 32, 32, 3), dtype=tf.float32, name='Conv1_input')\n",
            "\n",
            "  Function Name: 'call_and_return_all_conditional_losses'\n",
            "    Option #1\n",
            "      Callable with:\n",
            "        Argument #1\n",
            "          inputs: TensorSpec(shape=(None, 32, 32, 3), dtype=tf.float32, name='inputs')\n",
            "        Argument #2\n",
            "          DType: bool\n",
            "          Value: True\n",
            "        Argument #3\n",
            "          DType: NoneType\n",
            "          Value: None\n",
            "    Option #2\n",
            "      Callable with:\n",
            "        Argument #1\n",
            "          inputs: TensorSpec(shape=(None, 32, 32, 3), dtype=tf.float32, name='inputs')\n",
            "        Argument #2\n",
            "          DType: bool\n",
            "          Value: False\n",
            "        Argument #3\n",
            "          DType: NoneType\n",
            "          Value: None\n",
            "    Option #3\n",
            "      Callable with:\n",
            "        Argument #1\n",
            "          Conv1_input: TensorSpec(shape=(None, 32, 32, 3), dtype=tf.float32, name='Conv1_input')\n",
            "        Argument #2\n",
            "          DType: bool\n",
            "          Value: True\n",
            "        Argument #3\n",
            "          DType: NoneType\n",
            "          Value: None\n",
            "    Option #4\n",
            "      Callable with:\n",
            "        Argument #1\n",
            "          Conv1_input: TensorSpec(shape=(None, 32, 32, 3), dtype=tf.float32, name='Conv1_input')\n",
            "        Argument #2\n",
            "          DType: bool\n",
            "          Value: False\n",
            "        Argument #3\n",
            "          DType: NoneType\n",
            "          Value: None\n"
          ]
        }
      ]
    },
    {
      "cell_type": "markdown",
      "metadata": {
        "id": "B5qXLbmOIgRf"
      },
      "source": [
        "### 建立 TensorFlow Serving 服務 \n"
      ]
    },
    {
      "cell_type": "markdown",
      "metadata": {
        "id": "HqMykfnmItE0"
      },
      "source": [
        "- 依官方範例此為Colab環境所需設定內容，如使用本機端的 Notebook ，請注意相關提醒。"
      ]
    },
    {
      "cell_type": "markdown",
      "metadata": {
        "id": "bN0tft65JF9s"
      },
      "source": [
        "#### Add TensorFlow Serving distribution URI as a package source"
      ]
    },
    {
      "cell_type": "markdown",
      "metadata": {
        "id": "GE_sVx3MIi9S"
      },
      "source": [
        "- 我們準備使用[Aptitude](https://wiki.debian.org/Aptitude)安裝 TensorFlow Serving，因為此 Colab 在 Debian 環境中運行。我們將把這個`tensorflow-model-server`包添加到 Aptitude 知道的包列表中。請注意，我們以 root 身份運行。\n",
        "- 最簡單的方式是以 Docker 佈署，您可以參考此[範例](https://www.tensorflow.org/tfx/serving/docker)。"
      ]
    },
    {
      "cell_type": "code",
      "metadata": {
        "id": "v2hF_ChoOrEd"
      },
      "source": [
        "import sys\n",
        "# We need sudo prefix if not on a Google Colab.\n",
        "if 'google.colab' not in sys.modules:\n",
        "  SUDO_IF_NEEDED = 'sudo'\n",
        "else:\n",
        "  SUDO_IF_NEEDED = ''"
      ],
      "execution_count": 6,
      "outputs": []
    },
    {
      "cell_type": "code",
      "metadata": {
        "id": "EWg9X2QHlbGS",
        "colab": {
          "base_uri": "https://localhost:8080/"
        },
        "outputId": "20d665da-489f-49f1-8539-d1c2a78bcf53"
      },
      "source": [
        "# This is the same as you would do from your command line, but without the [arch=amd64], and no sudo\n",
        "# You would instead do:\n",
        "# echo \"deb [arch=amd64] http://storage.googleapis.com/tensorflow-serving-apt stable tensorflow-model-server tensorflow-model-server-universal\" | sudo tee /etc/apt/sources.list.d/tensorflow-serving.list && \\\n",
        "# curl https://storage.googleapis.com/tensorflow-serving-apt/tensorflow-serving.release.pub.gpg | sudo apt-key add -\n",
        "\n",
        "!echo \"deb http://storage.googleapis.com/tensorflow-serving-apt stable tensorflow-model-server tensorflow-model-server-universal\" | {SUDO_IF_NEEDED} tee /etc/apt/sources.list.d/tensorflow-serving.list && \\\n",
        "curl https://storage.googleapis.com/tensorflow-serving-apt/tensorflow-serving.release.pub.gpg | {SUDO_IF_NEEDED} apt-key add -\n",
        "!{SUDO_IF_NEEDED} apt update"
      ],
      "execution_count": 7,
      "outputs": [
        {
          "output_type": "stream",
          "name": "stdout",
          "text": [
            "deb http://storage.googleapis.com/tensorflow-serving-apt stable tensorflow-model-server tensorflow-model-server-universal\n",
            "  % Total    % Received % Xferd  Average Speed   Time    Time     Time  Current\n",
            "                                 Dload  Upload   Total   Spent    Left  Speed\n",
            "100  2943  100  2943    0     0  18055      0 --:--:-- --:--:-- --:--:-- 18055\n",
            "OK\n",
            "Hit:1 https://developer.download.nvidia.com/compute/cuda/repos/ubuntu1804/x86_64  InRelease\n",
            "Get:2 https://cloud.r-project.org/bin/linux/ubuntu bionic-cran40/ InRelease [3,626 B]\n",
            "Get:3 http://storage.googleapis.com/tensorflow-serving-apt stable InRelease [3,012 B]\n",
            "Ign:4 https://developer.download.nvidia.com/compute/machine-learning/repos/ubuntu1804/x86_64  InRelease\n",
            "Hit:5 https://developer.download.nvidia.com/compute/machine-learning/repos/ubuntu1804/x86_64  Release\n",
            "Hit:6 http://ppa.launchpad.net/c2d4u.team/c2d4u4.0+/ubuntu bionic InRelease\n",
            "Get:7 http://security.ubuntu.com/ubuntu bionic-security InRelease [88.7 kB]\n",
            "Hit:8 http://archive.ubuntu.com/ubuntu bionic InRelease\n",
            "Get:9 http://archive.ubuntu.com/ubuntu bionic-updates InRelease [88.7 kB]\n",
            "Hit:10 http://ppa.launchpad.net/cran/libgit2/ubuntu bionic InRelease\n",
            "Get:11 http://storage.googleapis.com/tensorflow-serving-apt stable/tensorflow-model-server-universal amd64 Packages [349 B]\n",
            "Get:13 http://storage.googleapis.com/tensorflow-serving-apt stable/tensorflow-model-server amd64 Packages [341 B]\n",
            "Hit:14 http://ppa.launchpad.net/deadsnakes/ppa/ubuntu bionic InRelease\n",
            "Get:15 http://archive.ubuntu.com/ubuntu bionic-backports InRelease [74.6 kB]\n",
            "Get:16 http://ppa.launchpad.net/graphics-drivers/ppa/ubuntu bionic InRelease [21.3 kB]\n",
            "Get:17 http://security.ubuntu.com/ubuntu bionic-security/multiverse amd64 Packages [22.8 kB]\n",
            "Get:18 http://security.ubuntu.com/ubuntu bionic-security/restricted amd64 Packages [932 kB]\n",
            "Get:19 http://archive.ubuntu.com/ubuntu bionic-updates/main amd64 Packages [3,199 kB]\n",
            "Get:20 http://security.ubuntu.com/ubuntu bionic-security/universe amd64 Packages [1,503 kB]\n",
            "Get:21 http://ppa.launchpad.net/graphics-drivers/ppa/ubuntu bionic/main amd64 Packages [44.3 kB]\n",
            "Get:22 http://security.ubuntu.com/ubuntu bionic-security/main amd64 Packages [2,765 kB]\n",
            "Get:23 http://archive.ubuntu.com/ubuntu bionic-updates/universe amd64 Packages [2,277 kB]\n",
            "Get:24 http://archive.ubuntu.com/ubuntu bionic-updates/restricted amd64 Packages [966 kB]\n",
            "Get:25 http://archive.ubuntu.com/ubuntu bionic-updates/multiverse amd64 Packages [29.8 kB]\n",
            "Fetched 12.0 MB in 3s (3,849 kB/s)\n",
            "Reading package lists... Done\n",
            "Building dependency tree       \n",
            "Reading state information... Done\n",
            "47 packages can be upgraded. Run 'apt list --upgradable' to see them.\n"
          ]
        }
      ]
    },
    {
      "cell_type": "markdown",
      "metadata": {
        "id": "W1ZVp_VOU7Wu"
      },
      "source": [
        "### 安裝 TensorFlow Serving\n"
      ]
    },
    {
      "cell_type": "code",
      "metadata": {
        "id": "ygwa9AgRloYy",
        "colab": {
          "base_uri": "https://localhost:8080/"
        },
        "outputId": "062772d0-9db4-4ee3-dc84-4d735e55f9b1"
      },
      "source": [
        "!{SUDO_IF_NEEDED} apt-get install tensorflow-model-server"
      ],
      "execution_count": 8,
      "outputs": [
        {
          "output_type": "stream",
          "name": "stdout",
          "text": [
            "Reading package lists... Done\n",
            "Building dependency tree       \n",
            "Reading state information... Done\n",
            "The following package was automatically installed and is no longer required:\n",
            "  libnvidia-common-460\n",
            "Use 'apt autoremove' to remove it.\n",
            "The following NEW packages will be installed:\n",
            "  tensorflow-model-server\n",
            "0 upgraded, 1 newly installed, 0 to remove and 47 not upgraded.\n",
            "Need to get 340 MB of archives.\n",
            "After this operation, 0 B of additional disk space will be used.\n",
            "Get:1 http://storage.googleapis.com/tensorflow-serving-apt stable/tensorflow-model-server amd64 tensorflow-model-server all 2.8.0 [340 MB]\n",
            "Fetched 340 MB in 4s (82.8 MB/s)\n",
            "Selecting previously unselected package tensorflow-model-server.\n",
            "(Reading database ... 155629 files and directories currently installed.)\n",
            "Preparing to unpack .../tensorflow-model-server_2.8.0_all.deb ...\n",
            "Unpacking tensorflow-model-server (2.8.0) ...\n",
            "Setting up tensorflow-model-server (2.8.0) ...\n"
          ]
        }
      ]
    },
    {
      "cell_type": "markdown",
      "metadata": {
        "id": "wwlh8e-PKa4z"
      },
      "source": [
        "### 啟動 TensorFlow Serving"
      ]
    },
    {
      "cell_type": "markdown",
      "metadata": {
        "id": "os0a4IeeKsQz"
      },
      "source": [
        "加載後，我們可以開始使用 REST 發出推理請求，相關參數:\n",
        "\n",
        "-   `rest_api_port`： REST 請求的 Port。\n",
        "-   `model_name`：您將在 REST 請求的 URL 中使用它。\n",
        "-   `model_base_path`：保存模型的目錄的路徑。"
      ]
    },
    {
      "cell_type": "code",
      "metadata": {
        "id": "aUgp3vUdU5GS"
      },
      "source": [
        "os.environ[\"MODEL_DIR\"] = MODEL_DIR"
      ],
      "execution_count": 9,
      "outputs": []
    },
    {
      "cell_type": "code",
      "metadata": {
        "id": "kJDhHNJVnaLN",
        "colab": {
          "base_uri": "https://localhost:8080/"
        },
        "outputId": "53a28efa-c91e-41de-ba81-c7bab3124f6d"
      },
      "source": [
        "%%bash --bg \n",
        "nohup tensorflow_model_server \\\n",
        "  --rest_api_port=8501 \\\n",
        "  --model_name=fashion_model \\\n",
        "  --model_base_path=\"${MODEL_DIR}\" >server.log 2>&1\n"
      ],
      "execution_count": 10,
      "outputs": [
        {
          "output_type": "stream",
          "name": "stdout",
          "text": [
            "Starting job # 0 in a separate thread.\n"
          ]
        }
      ]
    },
    {
      "cell_type": "code",
      "metadata": {
        "id": "IxbeiOCUUs2z"
      },
      "source": [
        "!tail server.log"
      ],
      "execution_count": 11,
      "outputs": []
    },
    {
      "cell_type": "markdown",
      "metadata": {
        "id": "7S4VXSBHLdNW"
      },
      "source": [
        "## 以 Request 向 TensorFlow Serving 提出請求提出請求"
      ]
    },
    {
      "cell_type": "markdown",
      "metadata": {
        "id": "kPWZAVBdLtMC"
      },
      "source": [
        "- 先以亂數查看 test data。"
      ]
    },
    {
      "cell_type": "code",
      "metadata": {
        "id": "Luqm_Jyff9iR",
        "colab": {
          "base_uri": "https://localhost:8080/",
          "height": 266
        },
        "outputId": "2fd413b4-684e-496f-dd0d-b3f3630f8a2c"
      },
      "source": [
        "def show(idx, title):\n",
        "  plt.figure()\n",
        "  plt.imshow(test_images[idx].reshape(32,32,3))\n",
        "  plt.axis('off')\n",
        "  plt.title(f'{title}', fontdict={'size': 16})\n",
        "\n",
        "import random\n",
        "rando = random.randint(0,len(test_images)-1)\n",
        "test_label_name = class_names[int(test_labels[rando])]\n",
        "show(rando, f'An Example Image: {test_label_name}')"
      ],
      "execution_count": 12,
      "outputs": [
        {
          "output_type": "display_data",
          "data": {
            "text/plain": [
              "<Figure size 432x288 with 1 Axes>"
            ],
            "image/png": "[encoded data removed]"
          },
          "metadata": {
            "needs_background": "light"
          }
        }
      ]
    },
    {
      "cell_type": "markdown",
      "metadata": {
        "id": "TKnEHeTrbh3L"
      },
      "source": [
        "- 測試請求一批JSON。"
      ]
    },
    {
      "cell_type": "code",
      "metadata": {
        "id": "2dsD7KQG1m-R",
        "colab": {
          "base_uri": "https://localhost:8080/"
        },
        "outputId": "e1d6102d-9acf-410b-8c3a-0ceb3c2d5878"
      },
      "source": [
        "import json\n",
        "from pprint import pprint\n",
        "\n",
        "data = json.dumps(\n",
        "    {\"signature_name\": \"serving_default\", \n",
        "     \"instances\": test_images[0:3].tolist()}\n",
        "     )\n",
        "pprint(f'Data: {data[:50]} ... {data[len(data)-52:]}')"
      ],
      "execution_count": 13,
      "outputs": [
        {
          "output_type": "stream",
          "name": "stdout",
          "text": [
            "('Data: {\"signature_name\": \"serving_default\", \"instances\": ... 6862, '\n",
            " '0.03137254901960784, 0.027450980392156862]]]]}')\n"
          ]
        }
      ]
    },
    {
      "cell_type": "markdown",
      "metadata": {
        "id": "ReQd4QESIwXN"
      },
      "source": [
        "### 發出 REST 請求"
      ]
    },
    {
      "cell_type": "markdown",
      "metadata": {
        "id": "AhEqF7fyOZsJ"
      },
      "source": [
        "### 最新版本的 servable"
      ]
    },
    {
      "cell_type": "markdown",
      "metadata": {
        "id": "Xf7UyoiLOnj0"
      },
      "source": [
        "- 以 POST 至 server，預設請求伺服器提供最新版次的內容。"
      ]
    },
    {
      "cell_type": "code",
      "metadata": {
        "id": "CgctjfjzQJl3"
      },
      "source": [
        "# docs_infra: no_execute\n",
        "!pip install -q requests"
      ],
      "execution_count": 14,
      "outputs": []
    },
    {
      "cell_type": "code",
      "metadata": {
        "id": "vGvFyuIzW6n6",
        "colab": {
          "base_uri": "https://localhost:8080/",
          "height": 266
        },
        "outputId": "422d820d-4fb4-474d-bb36-57fc24a5a089"
      },
      "source": [
        "import requests\n",
        "headers = {\"content-type\": \"application/json\"}\n",
        "json_response = requests.post(\n",
        "    'http://localhost:8501/v1/models/fashion_model:predict', \n",
        "    data=data, \n",
        "    headers=headers\n",
        "    )\n",
        "\n",
        "predictions = json.loads(json_response.text)['predictions']\n",
        "\n",
        "show(0, 'The model thought this was a {} (class {}), and it was actually a {} (class {})'.format(\n",
        "  class_names[np.argmax(predictions[0])], np.argmax(predictions[0]), class_names[int(test_labels[0])], test_labels[0]))"
      ],
      "execution_count": 15,
      "outputs": [
        {
          "output_type": "display_data",
          "data": {
            "text/plain": [
              "<Figure size 432x288 with 1 Axes>"
            ],
            "image/png": "[encoded data removed]"
          },
          "metadata": {
            "needs_background": "light"
          }
        }
      ]
    },
    {
      "cell_type": "markdown",
      "metadata": {
        "id": "N9gdMLWmUaap"
      },
      "source": [
        "### 指定特定版本服務"
      ]
    },
    {
      "cell_type": "markdown",
      "metadata": {
        "id": "nxoLxKIiUfRI"
      },
      "source": [
        "- 以REST API 向伺服器請求指定版本`version = 1`。"
      ]
    },
    {
      "cell_type": "code",
      "metadata": {
        "id": "zRftRxeR1tZx",
        "colab": {
          "base_uri": "https://localhost:8080/",
          "height": 764
        },
        "outputId": "0925792a-7426-4aba-eb4e-78b0d403ec32"
      },
      "source": [
        "# docs_infra: no_execute\n",
        "version = 1\n",
        "\n",
        "headers = {\"content-type\": \"application/json\"}\n",
        "json_response = requests.post(\n",
        "    f'http://localhost:8501/v1/models/fashion_model/versions/{version}:predict', \n",
        "    data=data, \n",
        "    headers=headers\n",
        "    )\n",
        "\n",
        "predictions = json.loads(json_response.text)['predictions']\n",
        "\n",
        "for i in range(0,3):\n",
        "  show(i, 'The model thought this was a {} (class {}), and it was actually a {} (class {})'.format(\n",
        "    class_names[np.argmax(predictions[i])], np.argmax(predictions[i]), class_names[int(test_labels[i])], test_labels[i]))"
      ],
      "execution_count": 16,
      "outputs": [
        {
          "output_type": "display_data",
          "data": {
            "text/plain": [
              "<Figure size 432x288 with 1 Axes>"
            ],
            "image/png": "[encoded data removed]"
          },
          "metadata": {
            "needs_background": "light"
          }
        },
        {
          "output_type": "display_data",
          "data": {
            "text/plain": [
              "<Figure size 432x288 with 1 Axes>"
            ],
            "image/png": "[encoded data removed]"
          },
          "metadata": {
            "needs_background": "light"
          }
        },
        {
          "output_type": "display_data",
          "data": {
            "text/plain": [
              "<Figure size 432x288 with 1 Axes>"
            ],
            "image/png": "[encoded data removed]"
          },
          "metadata": {
            "needs_background": "light"
          }
        }
      ]
    }
  ]
}