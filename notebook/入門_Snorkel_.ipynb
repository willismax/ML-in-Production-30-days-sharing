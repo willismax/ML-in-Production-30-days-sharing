{
  "nbformat": 4,
  "nbformat_minor": 0,
  "metadata": {
    "jupytext": {
      "cell_metadata_filter": "tags,-all",
      "encoding": "# -*- coding: utf-8 -*-"
    },
    "kernelspec": {
      "display_name": "Python 3",
      "language": "python",
      "name": "python3"
    },
    "language_info": {
      "codemirror_mode": {
        "name": "ipython",
        "version": 3
      },
      "file_extension": ".py",
      "mimetype": "text/x-python",
      "name": "python",
      "nbconvert_exporter": "python",
      "pygments_lexer": "ipython3",
      "version": "3.6.9"
    },
    "colab": {
      "name": "入門 Snorkel .ipynb",
      "provenance": [],
      "include_colab_link": true
    }
  },
  "cells": [
    {
      "cell_type": "markdown",
      "metadata": {
        "id": "view-in-github",
        "colab_type": "text"
      },
      "source": [
        "<a href=\"https://colab.research.google.com/github/willismax/ML-in-Production-30-days-sharing/blob/main/notebook/%E5%85%A5%E9%96%80_Snorkel_.ipynb\" target=\"_parent\"><img src=\"https://colab.research.google.com/assets/colab-badge.svg\" alt=\"Open In Colab\"/></a>"
      ]
    },
    {
      "cell_type": "markdown",
      "metadata": {
        "tags": [
          "md-exclude"
        ],
        "id": "9TzCM3AnHyLb"
      },
      "source": [
        "# 入門 Snorkel"
      ]
    },
    {
      "cell_type": "markdown",
      "metadata": {
        "id": "5XDekCEAPXif"
      },
      "source": [
        "- 本Colab源自https://github.com/snorkel-team/snorkel-tutorials ，並調整至可在Colab執行，供學習參考。"
      ]
    },
    {
      "cell_type": "markdown",
      "metadata": {
        "id": "44OR3mry6TdM"
      },
      "source": [
        "## 安裝模組"
      ]
    },
    {
      "cell_type": "markdown",
      "metadata": {
        "id": "cRFyxbTcCd-Q"
      },
      "source": [
        "- 下載官方教學\n",
        "- 安裝相關模組(可能要\"Restart Runtime\")"
      ]
    },
    {
      "cell_type": "code",
      "metadata": {
        "id": "Ul7fDVUKPGUe"
      },
      "source": [
        "!git clone https://github.com/snorkel-team/snorkel-tutorials.git\n",
        "!pip3 install -r /content/snorkel-tutorials/requirements.txt\n",
        "!pip3 install -r /content/snorkel-tutorials/spam/requirements.txt\n",
        "!pip install TensorBoard==1.15\n",
        "!pip install snorkel"
      ],
      "execution_count": null,
      "outputs": []
    },
    {
      "cell_type": "code",
      "metadata": {
        "colab": {
          "base_uri": "https://localhost:8080/"
        },
        "id": "oMJOSR2CQTXf",
        "outputId": "d07b680b-9c70-4414-c189-791b14555fca"
      },
      "source": [
        "%cd snorkel-tutorials\n",
        "\n",
        "import os\n",
        "# Make sure we're running from the spam/ directory\n",
        "if os.path.basename(os.getcwd()) == \"snorkel-tutorials\":\n",
        "    os.chdir(\"getting_started\")"
      ],
      "execution_count": 3,
      "outputs": [
        {
          "output_type": "stream",
          "name": "stdout",
          "text": [
            "/content/snorkel-tutorials\n"
          ]
        }
      ]
    },
    {
      "cell_type": "code",
      "metadata": {
        "colab": {
          "base_uri": "https://localhost:8080/"
        },
        "id": "SXNoVKETQmRR",
        "outputId": "7a23443a-cfd0-495c-9f29-bfc219227f36"
      },
      "source": [
        "#確認Colab路徑為/content/snorkel-tutorials/getting_started\n",
        "!pwd"
      ],
      "execution_count": 4,
      "outputs": [
        {
          "output_type": "stream",
          "name": "stdout",
          "text": [
            "/content/snorkel-tutorials/getting_started\n"
          ]
        }
      ]
    },
    {
      "cell_type": "markdown",
      "metadata": {
        "id": "G16RMgpjHyLj"
      },
      "source": [
        "## 使用 Snorkel 以程式構建和管理訓練數據\n"
      ]
    },
    {
      "cell_type": "markdown",
      "metadata": {
        "id": "PvsQxBqy66RQ"
      },
      "source": [
        "Snorkel 是一種「無需手動標記」即可以程式構建和管理訓練數據集的系統。在 Snorkel 中，可以在數小時或數天內開發大型訓練數據集，而不是在數週或數月內手動標記。\n",
        "\n",
        "Snorkel 目前公開了三個關鍵的程序化操作：\n",
        "\n",
        "- 標記數據 **Labeling data** : 例如使用啟發式規則或遠程監督技術。\n",
        "- 轉換數據 **Transforming data** : 例如旋轉或拉伸圖像以執行數據增強。\n",
        "- 資料切片 **Slicing data** : 將數據分成不同的關鍵子集以進行監控或有針對性的改進。\n",
        "\n",
        "然後，Snorkel 使用新穎的、有理論依據的技術自動建模、清理和整合生成的訓練數據。"
      ]
    },
    {
      "cell_type": "markdown",
      "metadata": {
        "id": "jcCNRqgaHyLk"
      },
      "source": [
        "<img src=\"https://github.com/snorkel-team/snorkel-tutorials/blob/master/getting_started/img/Overview.png?raw=1\" onerror=\"this.onerror=null; this.src='/doks-theme/assets/images/layout/Overview.png';\" align=\"center\" style=\"display: block; margin-left: auto; margin-right: auto;\">"
      ]
    },
    {
      "cell_type": "markdown",
      "metadata": {
        "id": "kPqLPuihHyLl"
      },
      "source": [
        "我們將完成五個基本步驟，透過官方範例 [YouTube comments 資料集](http://www.dt.fee.unicamp.br/~tiago//youtubespamcollection/)示範，，簡單定義3個標籤並接續後續流程:"
      ]
    },
    {
      "cell_type": "code",
      "metadata": {
        "id": "HFvS_CB2HyLq"
      },
      "source": [
        "# Define the label mappings for convenience\n",
        "ABSTAIN = -1 #放棄標註\n",
        "NOT_SPAM = 0\n",
        "SPAM = 1"
      ],
      "execution_count": 5,
      "outputs": []
    },
    {
      "cell_type": "code",
      "metadata": {
        "id": "ru5utxuMHyLn"
      },
      "source": [
        "from utils import load_unlabeled_spam_dataset\n",
        "\n",
        "df_train = load_unlabeled_spam_dataset()"
      ],
      "execution_count": 6,
      "outputs": []
    },
    {
      "cell_type": "markdown",
      "metadata": {
        "id": "frB0fe1kHyLo"
      },
      "source": [
        "## 1. 編寫標籤函數 (LFs)：\n",
        "- 將用 LFs 以編程方式標記我們未標記的數據集，而不是手動標記任何訓練數據。 以下為官方導覽介紹的3種LF函數寫法，\n",
        "- 關鍵字判別、正規表達式判別與用外部模組判別。"
      ]
    },
    {
      "cell_type": "markdown",
      "metadata": {
        "id": "HXoPNeWnHyLt"
      },
      "source": [
        "- 關鍵字："
      ]
    },
    {
      "cell_type": "code",
      "metadata": {
        "id": "sXzzmW16HyLt"
      },
      "source": [
        "from snorkel.labeling import labeling_function\n",
        "\n",
        "@labeling_function()\n",
        "def lf_keyword_my(x):\n",
        "    \"\"\"Many spam comments talk about 'my channel', 'my video', etc.\"\"\"\n",
        "    return SPAM if \"my\" in x.text.lower() else ABSTAIN"
      ],
      "execution_count": 7,
      "outputs": []
    },
    {
      "cell_type": "markdown",
      "metadata": {
        "id": "D7lKmVgdHyLu"
      },
      "source": [
        "- 正規表達式："
      ]
    },
    {
      "cell_type": "code",
      "metadata": {
        "id": "L48FlDcPHyLv"
      },
      "source": [
        "import re\n",
        "\n",
        "@labeling_function()\n",
        "def lf_regex_check_out(x):\n",
        "    \"\"\"Spam comments say 'check out my video', 'check it out', etc.\"\"\"\n",
        "    return SPAM if re.search(r\"check.*out\", x.text, flags=re.I) else ABSTAIN"
      ],
      "execution_count": 8,
      "outputs": []
    },
    {
      "cell_type": "markdown",
      "metadata": {
        "id": "eZPR-KuTHyLx"
      },
      "source": [
        "- 任意啟發式："
      ]
    },
    {
      "cell_type": "code",
      "metadata": {
        "id": "vD_q1thOHyLx"
      },
      "source": [
        "@labeling_function()\n",
        "def lf_short_comment(x):\n",
        "    \"\"\"Non-spam comments are often short, such as 'cool video!'.\"\"\"\n",
        "    return NOT_SPAM if len(x.text.split()) < 5 else ABSTAIN"
      ],
      "execution_count": 9,
      "outputs": []
    },
    {
      "cell_type": "markdown",
      "metadata": {
        "id": "nAqzfSh_HyLy"
      },
      "source": [
        "- 第三方模組："
      ]
    },
    {
      "cell_type": "code",
      "metadata": {
        "id": "Hvu9pzWDHyLy"
      },
      "source": [
        "from textblob import TextBlob\n",
        "\n",
        "\n",
        "@labeling_function()\n",
        "def lf_textblob_polarity(x):\n",
        "    \"\"\"\n",
        "    We use a third-party sentiment classification model, TextBlob.\n",
        "\n",
        "    We combine this with the heuristic that non-spam comments are often positive.\n",
        "    \"\"\"\n",
        "    return NOT_SPAM if TextBlob(x.text).sentiment.polarity > 0.3 else ABSTAIN"
      ],
      "execution_count": null,
      "outputs": []
    },
    {
      "cell_type": "markdown",
      "metadata": {
        "id": "nKLYnrFEHyLz"
      },
      "source": [
        "- 更多類型的標記函數（包括文本以外的數據模式），請參閱其他[官方範例](https://snorkel.org/use-cases/)和[實際示例](https://snorkel.org/resources/)。"
      ]
    },
    {
      "cell_type": "markdown",
      "metadata": {
        "id": "Apx4psPS897c"
      },
      "source": [
        "## 2. 建模和組合 LF：\n"
      ]
    },
    {
      "cell_type": "markdown",
      "metadata": {
        "id": "qXkBvNNYHyLz"
      },
      "source": [
        "- 將前述設定好的`LabelModel` LF 組合為 list，將 LFs 應用於偽標註的訓練數據。\n",
        "- 由於標註函數 LFs 的準確度和相關性未知，輸出標籤可能會重疊和衝突。 `snorkel.labeling.model.LabelModel` 可以自動估計它們的準確性和相關性，重新加權和組合它們的標籤，並生成我們最終的乾淨、集成的訓練標籤集："
      ]
    },
    {
      "cell_type": "code",
      "metadata": {
        "id": "F9I7A14OHyL0",
        "colab": {
          "base_uri": "https://localhost:8080/"
        },
        "outputId": "325e77f0-3354-42e3-c94b-bd6c2e1d689a"
      },
      "source": [
        "from snorkel.labeling.model import LabelModel\n",
        "from snorkel.labeling import PandasLFApplier\n",
        "\n",
        "# Define the set of labeling functions (LFs)\n",
        "lfs = [lf_keyword_my, lf_regex_check_out, lf_short_comment, lf_textblob_polarity]\n",
        "\n",
        "# Apply the LFs to the unlabeled training data\n",
        "applier = PandasLFApplier(lfs)\n",
        "L_train = applier.apply(df_train)\n",
        "\n",
        "# Train the label model and compute the training labels\n",
        "label_model = LabelModel(cardinality=2, verbose=True)\n",
        "label_model.fit(L_train, n_epochs=500, log_freq=50, seed=123)\n",
        "df_train[\"label\"] = label_model.predict(L=L_train, tie_break_policy=\"abstain\")"
      ],
      "execution_count": 11,
      "outputs": [
        {
          "output_type": "stream",
          "name": "stderr",
          "text": [
            "100%|██████████| 1956/1956 [00:00<00:00, 2308.15it/s]\n"
          ]
        }
      ]
    },
    {
      "cell_type": "code",
      "metadata": {
        "colab": {
          "base_uri": "https://localhost:8080/",
          "height": 175
        },
        "id": "0Ay1-hJBMOcg",
        "outputId": "3f4bcba1-6a9e-46a1-a3b8-beaf6b7e6bd7"
      },
      "source": [
        "from snorkel.labeling import LFAnalysis\n",
        "\n",
        "Y_valid = df_train.label.values\n",
        "LFAnalysis(L_train, lfs).lf_summary(Y_valid)"
      ],
      "execution_count": 12,
      "outputs": [
        {
          "output_type": "execute_result",
          "data": {
            "text/plain": [
              "                      j Polarity  Coverage  Overlaps  Conflicts  Correct  \\\n",
              "lf_keyword_my         0      [1]  0.194274  0.129857   0.069530      353   \n",
              "lf_regex_check_out    1      [1]  0.225971  0.106851   0.046524      442   \n",
              "lf_short_comment      2      [0]  0.249489  0.091002   0.015337      485   \n",
              "lf_textblob_polarity  3      [0]  0.292434  0.154397   0.078732      420   \n",
              "\n",
              "                      Incorrect  Emp. Acc.  \n",
              "lf_keyword_my                27   0.928947  \n",
              "lf_regex_check_out            0   1.000000  \n",
              "lf_short_comment              3   0.993852  \n",
              "lf_textblob_polarity        152   0.734266  "
            ],
            "text/html": [
              "\n",
              "  <div id=\"df-790f80b1-f652-4911-b40b-9b6c1600c43b\">\n",
              "    <div class=\"colab-df-container\">\n",
              "      <div>\n",
              "<style scoped>\n",
              "    .dataframe tbody tr th:only-of-type {\n",
              "        vertical-align: middle;\n",
              "    }\n",
              "\n",
              "    .dataframe tbody tr th {\n",
              "        vertical-align: top;\n",
              "    }\n",
              "\n",
              "    .dataframe thead th {\n",
              "        text-align: right;\n",
              "    }\n",
              "</style>\n",
              "<table border=\"1\" class=\"dataframe\">\n",
              "  <thead>\n",
              "    <tr style=\"text-align: right;\">\n",
              "      <th></th>\n",
              "      <th>j</th>\n",
              "      <th>Polarity</th>\n",
              "      <th>Coverage</th>\n",
              "      <th>Overlaps</th>\n",
              "      <th>Conflicts</th>\n",
              "      <th>Correct</th>\n",
              "      <th>Incorrect</th>\n",
              "      <th>Emp. Acc.</th>\n",
              "    </tr>\n",
              "  </thead>\n",
              "  <tbody>\n",
              "    <tr>\n",
              "      <th>lf_keyword_my</th>\n",
              "      <td>0</td>\n",
              "      <td>[1]</td>\n",
              "      <td>0.194274</td>\n",
              "      <td>0.129857</td>\n",
              "      <td>0.069530</td>\n",
              "      <td>353</td>\n",
              "      <td>27</td>\n",
              "      <td>0.928947</td>\n",
              "    </tr>\n",
              "    <tr>\n",
              "      <th>lf_regex_check_out</th>\n",
              "      <td>1</td>\n",
              "      <td>[1]</td>\n",
              "      <td>0.225971</td>\n",
              "      <td>0.106851</td>\n",
              "      <td>0.046524</td>\n",
              "      <td>442</td>\n",
              "      <td>0</td>\n",
              "      <td>1.000000</td>\n",
              "    </tr>\n",
              "    <tr>\n",
              "      <th>lf_short_comment</th>\n",
              "      <td>2</td>\n",
              "      <td>[0]</td>\n",
              "      <td>0.249489</td>\n",
              "      <td>0.091002</td>\n",
              "      <td>0.015337</td>\n",
              "      <td>485</td>\n",
              "      <td>3</td>\n",
              "      <td>0.993852</td>\n",
              "    </tr>\n",
              "    <tr>\n",
              "      <th>lf_textblob_polarity</th>\n",
              "      <td>3</td>\n",
              "      <td>[0]</td>\n",
              "      <td>0.292434</td>\n",
              "      <td>0.154397</td>\n",
              "      <td>0.078732</td>\n",
              "      <td>420</td>\n",
              "      <td>152</td>\n",
              "      <td>0.734266</td>\n",
              "    </tr>\n",
              "  </tbody>\n",
              "</table>\n",
              "</div>\n",
              "      <button class=\"colab-df-convert\" onclick=\"convertToInteractive('df-790f80b1-f652-4911-b40b-9b6c1600c43b')\"\n",
              "              title=\"Convert this dataframe to an interactive table.\"\n",
              "              style=\"display:none;\">\n",
              "        \n",
              "  <svg xmlns=\"http://www.w3.org/2000/svg\" height=\"24px\"viewBox=\"0 0 24 24\"\n",
              "       width=\"24px\">\n",
              "    <path d=\"M0 0h24v24H0V0z\" fill=\"none\"/>\n",
              "    <path d=\"M18.56 5.44l.94 2.06.94-2.06 2.06-.94-2.06-.94-.94-2.06-.94 2.06-2.06.94zm-11 1L8.5 8.5l.94-2.06 2.06-.94-2.06-.94L8.5 2.5l-.94 2.06-2.06.94zm10 10l.94 2.06.94-2.06 2.06-.94-2.06-.94-.94-2.06-.94 2.06-2.06.94z\"/><path d=\"M17.41 7.96l-1.37-1.37c-.4-.4-.92-.59-1.43-.59-.52 0-1.04.2-1.43.59L10.3 9.45l-7.72 7.72c-.78.78-.78 2.05 0 2.83L4 21.41c.39.39.9.59 1.41.59.51 0 1.02-.2 1.41-.59l7.78-7.78 2.81-2.81c.8-.78.8-2.07 0-2.86zM5.41 20L4 18.59l7.72-7.72 1.47 1.35L5.41 20z\"/>\n",
              "  </svg>\n",
              "      </button>\n",
              "      \n",
              "  <style>\n",
              "    .colab-df-container {\n",
              "      display:flex;\n",
              "      flex-wrap:wrap;\n",
              "      gap: 12px;\n",
              "    }\n",
              "\n",
              "    .colab-df-convert {\n",
              "      background-color: #E8F0FE;\n",
              "      border: none;\n",
              "      border-radius: 50%;\n",
              "      cursor: pointer;\n",
              "      display: none;\n",
              "      fill: #1967D2;\n",
              "      height: 32px;\n",
              "      padding: 0 0 0 0;\n",
              "      width: 32px;\n",
              "    }\n",
              "\n",
              "    .colab-df-convert:hover {\n",
              "      background-color: #E2EBFA;\n",
              "      box-shadow: 0px 1px 2px rgba(60, 64, 67, 0.3), 0px 1px 3px 1px rgba(60, 64, 67, 0.15);\n",
              "      fill: #174EA6;\n",
              "    }\n",
              "\n",
              "    [theme=dark] .colab-df-convert {\n",
              "      background-color: #3B4455;\n",
              "      fill: #D2E3FC;\n",
              "    }\n",
              "\n",
              "    [theme=dark] .colab-df-convert:hover {\n",
              "      background-color: #434B5C;\n",
              "      box-shadow: 0px 1px 3px 1px rgba(0, 0, 0, 0.15);\n",
              "      filter: drop-shadow(0px 1px 2px rgba(0, 0, 0, 0.3));\n",
              "      fill: #FFFFFF;\n",
              "    }\n",
              "  </style>\n",
              "\n",
              "      <script>\n",
              "        const buttonEl =\n",
              "          document.querySelector('#df-790f80b1-f652-4911-b40b-9b6c1600c43b button.colab-df-convert');\n",
              "        buttonEl.style.display =\n",
              "          google.colab.kernel.accessAllowed ? 'block' : 'none';\n",
              "\n",
              "        async function convertToInteractive(key) {\n",
              "          const element = document.querySelector('#df-790f80b1-f652-4911-b40b-9b6c1600c43b');\n",
              "          const dataTable =\n",
              "            await google.colab.kernel.invokeFunction('convertToInteractive',\n",
              "                                                     [key], {});\n",
              "          if (!dataTable) return;\n",
              "\n",
              "          const docLinkHtml = 'Like what you see? Visit the ' +\n",
              "            '<a target=\"_blank\" href=https://colab.research.google.com/notebooks/data_table.ipynb>data table notebook</a>'\n",
              "            + ' to learn more about interactive tables.';\n",
              "          element.innerHTML = '';\n",
              "          dataTable['output_type'] = 'display_data';\n",
              "          await google.colab.output.renderOutput(dataTable, element);\n",
              "          const docLink = document.createElement('div');\n",
              "          docLink.innerHTML = docLinkHtml;\n",
              "          element.appendChild(docLink);\n",
              "        }\n",
              "      </script>\n",
              "    </div>\n",
              "  </div>\n",
              "  "
            ]
          },
          "metadata": {},
          "execution_count": 12
        }
      ]
    },
    {
      "cell_type": "markdown",
      "metadata": {
        "id": "MVMnDYsHHyL1"
      },
      "source": [
        "- 由於前述`LabelModel`可能很多數據為標註結果為放棄標示狀態的`ABSTAIN = -1`，為清理訓練資料集，將明顯標註`SPAM`、`NOT_SPAM`的訓練資料集保留進行後去處理。"
      ]
    },
    {
      "cell_type": "code",
      "metadata": {
        "id": "7gxW3ws-HyL1"
      },
      "source": [
        "df_train = df_train[df_train.label != ABSTAIN]"
      ],
      "execution_count": 13,
      "outputs": []
    },
    {
      "cell_type": "markdown",
      "metadata": {
        "id": "ymNk0fWX9NH1"
      },
      "source": [
        "## 3. 編寫數據增強的TF函數\n"
      ]
    },
    {
      "cell_type": "markdown",
      "metadata": {
        "id": "jlataFF89Ps8"
      },
      "source": [
        "- 接著透過建立一個TF函數來增強這個標記的訓練集。\n",
        "\n",
        "- 以下`get_synonyms()`用`nltk.wordnet`獲取單詞的同義詞。\n"
      ]
    },
    {
      "cell_type": "markdown",
      "metadata": {
        "id": "yrFgMmVt9iCj"
      },
      "source": [
        "- 使用 TF `snorkel.augmentation.transformation_function` 做為裝飾子，自訂 `tf_replace_word_with_synonym()` 函數將生成的同義詞加入訓練資料集。"
      ]
    },
    {
      "cell_type": "code",
      "metadata": {
        "id": "BSFkoNVVHyL2"
      },
      "source": [
        "import random\n",
        "\n",
        "import nltk\n",
        "from nltk.corpus import wordnet as wn\n",
        "\n",
        "from snorkel.augmentation import transformation_function\n",
        "\n",
        "nltk.download(\"wordnet\", quiet=True)\n",
        "\n",
        "\n",
        "def get_synonyms(word):\n",
        "    \"\"\"Get the synonyms of word from Wordnet.\"\"\"\n",
        "    lemmas = set().union(*[s.lemmas() for s in wn.synsets(word)])\n",
        "    return list(set(l.name().lower().replace(\"_\", \" \") for l in lemmas) - {word})\n",
        "\n",
        "\n",
        "@transformation_function()\n",
        "def tf_replace_word_with_synonym(x):\n",
        "    \"\"\"Try to replace a random word with a synonym.\"\"\"\n",
        "    words = x.text.lower().split()\n",
        "    idx = random.choice(range(len(words)))\n",
        "    synonyms = get_synonyms(words[idx])\n",
        "    if len(synonyms) > 0:\n",
        "        x.text = \" \".join(words[:idx] + [synonyms[0]] + words[idx + 1 :])\n",
        "        return x"
      ],
      "execution_count": 14,
      "outputs": []
    },
    {
      "cell_type": "markdown",
      "metadata": {
        "id": "CPuP9kVu92uI"
      },
      "source": [
        "- 將自訂 TF 函數加入訓練數據集。\n"
      ]
    },
    {
      "cell_type": "code",
      "metadata": {
        "id": "9bhrKpTpHyL3",
        "colab": {
          "base_uri": "https://localhost:8080/"
        },
        "outputId": "4afb9386-33f5-4fff-cd64-e96698015aea"
      },
      "source": [
        "from snorkel.augmentation import ApplyOnePolicy, PandasTFApplier\n",
        "\n",
        "tf_policy = ApplyOnePolicy(n_per_original=2, keep_original=True)\n",
        "tf_applier = PandasTFApplier([tf_replace_word_with_synonym], tf_policy)\n",
        "df_train_augmented = tf_applier.apply(df_train)"
      ],
      "execution_count": 15,
      "outputs": [
        {
          "output_type": "stream",
          "name": "stderr",
          "text": [
            "100%|██████████| 1387/1387 [00:03<00:00, 382.27it/s]\n"
          ]
        }
      ]
    },
    {
      "cell_type": "markdown",
      "metadata": {
        "id": "aHqRFDm6HyL4"
      },
      "source": [
        "- 更多數據增強的調整可參閱 [Spam TFs tutorial](https://snorkel.org/use-cases/02-spam-data-augmentation-tutorial)。\n"
      ]
    },
    {
      "cell_type": "markdown",
      "metadata": {
        "id": "E1xgisYL99gF"
      },
      "source": [
        "## 4. 建立切片函數 Slicing Function , SF\n"
      ]
    },
    {
      "cell_type": "markdown",
      "metadata": {
        "id": "weWAM5ZkHyL4"
      },
      "source": [
        "- Snorkel 的 Slicing Function 可用以監控特定切片，以及透過針對不同切片增加特徵以提高模型性能。\n",
        "\n",
        "- 延續 Youtube 評論之中可能有惡意連結的想法，為此撰寫一個查找可疑縮網址的程式，這對找出惡意垃圾評論可能很關鍵。設定好 SF 可監控此切片的性能："
      ]
    },
    {
      "cell_type": "code",
      "metadata": {
        "id": "oOoOqvuoHyL4"
      },
      "source": [
        "from snorkel.slicing import slicing_function\n",
        "\n",
        "\n",
        "@slicing_function()\n",
        "def short_link(x):\n",
        "    \"\"\"\n",
        "    Return whether text matches common pattern \n",
        "    for shortened \".ly\" links.\n",
        "    \"\"\"\n",
        "    return int(bool(re.search(r\"\\w+\\.ly\", x.text)))"
      ],
      "execution_count": 16,
      "outputs": []
    },
    {
      "cell_type": "markdown",
      "metadata": {
        "id": "zc23A0FK-Iyi"
      },
      "source": [
        "## 5. 訓練分類器"
      ]
    },
    {
      "cell_type": "markdown",
      "metadata": {
        "id": "svCO0EHH-OdT"
      },
      "source": [
        "- Snorkel 的最終目標是創建一個標註完成的訓練資料集，然後將其插入任意機器學習框架（例如 TensorFlow、Keras、PyTorch、Scikit-Learn、Ludwig、XGBoost），以訓練強大的機器學習模型。\n",
        "- 接續範例，將前述第3步完成的訓練資料集`df_train_augmented`，以 Scikit-Learn 的 n-gram 邏輯回歸模型進行推論，完成整個運用Snorkel 弱監督分類模型。"
      ]
    },
    {
      "cell_type": "code",
      "metadata": {
        "id": "52eXnFV_HyL5",
        "colab": {
          "base_uri": "https://localhost:8080/"
        },
        "outputId": "d65a5d02-8e65-42a0-96c9-fbee42a14e38"
      },
      "source": [
        "from sklearn.feature_extraction.text import CountVectorizer\n",
        "from sklearn.linear_model import LogisticRegression\n",
        "\n",
        "train_text = df_train_augmented.text.tolist()\n",
        "X_train = CountVectorizer(ngram_range=(1, 2)).fit_transform(train_text)\n",
        "\n",
        "clf = LogisticRegression(solver=\"lbfgs\")\n",
        "clf.fit(X=X_train, y=df_train_augmented.label.values)"
      ],
      "execution_count": 17,
      "outputs": [
        {
          "output_type": "execute_result",
          "data": {
            "text/plain": [
              "LogisticRegression(C=1.0, class_weight=None, dual=False, fit_intercept=True,\n",
              "                   intercept_scaling=1, l1_ratio=None, max_iter=100,\n",
              "                   multi_class='warn', n_jobs=None, penalty='l2',\n",
              "                   random_state=None, solver='lbfgs', tol=0.0001, verbose=0,\n",
              "                   warm_start=False)"
            ]
          },
          "metadata": {},
          "execution_count": 17
        }
      ]
    },
    {
      "cell_type": "markdown",
      "metadata": {
        "id": "TmH2gyjw-TmD"
      },
      "source": [
        "## 小結\n",
        "\n"
      ]
    },
    {
      "cell_type": "markdown",
      "metadata": {
        "id": "mWmF2-PE-zE5"
      },
      "source": [
        "- Snorkel 透過程式邏輯標註程式(Labeling data)，透過數據增強方式自動化轉換數據(Transforming data)，並且可以切片監控特定子資料集(Slicing data)，好處是可以輕易地融入機械學習系統工作流程，並且有自動標註的好處，標註水準還不錯。\n",
        "- 雖然好用，但官方範例較複雜，希望能整理一份方便使用的指引，供您後續標註資料的參考。"
      ]
    }
  ]
}