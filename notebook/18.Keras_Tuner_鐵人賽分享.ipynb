{
  "nbformat": 4,
  "nbformat_minor": 0,
  "metadata": {
    "accelerator": "GPU",
    "colab": {
      "name": "Keras_Tuner-鐵人賽分享.ipynb",
      "private_outputs": true,
      "provenance": [],
      "collapsed_sections": [],
      "include_colab_link": true
    },
    "kernelspec": {
      "display_name": "Python 3",
      "name": "python3"
    }
  },
  "cells": [
    {
      "cell_type": "markdown",
      "metadata": {
        "id": "view-in-github",
        "colab_type": "text"
      },
      "source": [
        "<a href=\"https://colab.research.google.com/github/willismax/ML-in-Production-30-days-sharing/blob/main/notebook/18.Keras_Tuner_%E9%90%B5%E4%BA%BA%E8%B3%BD%E5%88%86%E4%BA%AB.ipynb\" target=\"_parent\"><img src=\"https://colab.research.google.com/assets/colab-badge.svg\" alt=\"Open In Colab\"/></a>"
      ]
    },
    {
      "cell_type": "markdown",
      "metadata": {
        "id": "qFdPvlXBOdUN"
      },
      "source": [
        "# Keras Tuner"
      ]
    },
    {
      "cell_type": "markdown",
      "metadata": {
        "id": "xHxb-dlhMIzW"
      },
      "source": [
        "- 分享於[ithome鐵人賽](https://ithelp.ithome.com.tw/articles/10265801)文章的實作範例。\n",
        "- [Keras Tuner](https://keras.io/keras_tuner/)是 Keras 團隊的一個模組，可自動執行神經網絡的超參數調整\n",
        "- 為了進行比較，首先使用預先選擇的超參數訓練基線模型，然後使用調整後的超參數重做該過程。\n",
        "- 範例改寫自[Tensorflow 提供的官方教學](https://colab.research.google.com/github/tensorflow/docs/blob/master/site/en/tutorials/keras/keras_tuner.ipynb#scrollTo=sKwLOzKpFGAj)。"
      ]
    },
    {
      "cell_type": "markdown",
      "metadata": {
        "id": "ReV_UXOgCZvx"
      },
      "source": [
        "## 下載資料集\n",
        "\n",
        "採用 [Fashion MNIST dataset](https://github.com/zalandoresearch/fashion-mnist) 。"
      ]
    },
    {
      "cell_type": "code",
      "metadata": {
        "id": "ysAmHLZoDld7"
      },
      "source": [
        "from tensorflow import keras\n",
        "\n",
        "(img_train, label_train), (img_test, label_test) = keras.datasets.fashion_mnist.load_data()\n",
        "\n",
        "# Normalize\n",
        "img_train = img_train.astype('float32') / 255.0\n",
        "img_test = img_test.astype('float32') / 255.0"
      ],
      "execution_count": null,
      "outputs": []
    },
    {
      "cell_type": "markdown",
      "metadata": {
        "id": "_3pTFGlJNlXW"
      },
      "source": [
        "- 建立 Baseline model"
      ]
    },
    {
      "cell_type": "code",
      "metadata": {
        "id": "fmWlClw3K8as"
      },
      "source": [
        "baseline_model = keras.Sequential()\n",
        "baseline_model.add(keras.layers.Flatten(input_shape=(28, 28)))\n",
        "baseline_model.add(keras.layers.Dense(units=512, activation='relu', name='dense_1'))\n",
        "baseline_model.add(keras.layers.Dropout(0.2))\n",
        "baseline_model.add(keras.layers.Dense(10, activation='softmax'))\n",
        "baseline_model.compile(\n",
        "    optimizer = keras.optimizers.Adam(learning_rate=0.001),\n",
        "    loss = keras.losses.SparseCategoricalCrossentropy(),\n",
        "    metrics = ['accuracy']\n",
        "    )\n",
        "baseline_model.summary()"
      ],
      "execution_count": null,
      "outputs": []
    },
    {
      "cell_type": "code",
      "metadata": {
        "id": "NHVWtgmbKwJ4"
      },
      "source": [
        "# 訓練及評估模型\n",
        "baseline_model.fit(img_train, label_train, epochs=10, validation_split=0.2)\n",
        "baseline_eval_dict = baseline_model.evaluate(img_test, label_test, return_dict=True)"
      ],
      "execution_count": null,
      "outputs": []
    },
    {
      "cell_type": "markdown",
      "metadata": {
        "id": "iaeRk4u0Ntdo"
      },
      "source": [
        "- 建立顯示結果的輔助函數，以便稍後進行比較。"
      ]
    },
    {
      "cell_type": "code",
      "metadata": {
        "id": "sXtbuNewMoIR"
      },
      "source": [
        "def print_results(model, model_name, eval_dict):\n",
        "  print(f'\\n{model_name}:')\n",
        "  print(f'number of units in 1st Dense layer: {model.get_layer(\"dense_1\").units}')\n",
        "  print(f'learning rate for the optimizer: {model.optimizer.lr.numpy()}')\n",
        "\n",
        "  for key,value in eval_dict.items():\n",
        "    print(f'{key}: {value}')\n",
        "\n",
        "# Print results for baseline model\n",
        "print_results(baseline_model, 'BASELINE MODEL', baseline_eval_dict)"
      ],
      "execution_count": null,
      "outputs": []
    },
    {
      "cell_type": "markdown",
      "metadata": {
        "id": "7oyczDXqtWjI"
      },
      "source": [
        "## Keras Tuner\n"
      ]
    },
    {
      "cell_type": "markdown",
      "metadata": {
        "id": "Vfcx9rJyOAM_"
      },
      "source": [
        "要使用 Keras Tuner 執行超調，您需要：\n",
        "\n",
        "- 定義模型\n",
        "- 選擇要調整的超參數\n",
        "- 定義其搜索空間\n",
        "- 定義搜索策略"
      ]
    },
    {
      "cell_type": "code",
      "metadata": {
        "id": "hpMLpbt9jcO6"
      },
      "source": [
        "!pip install -q -U keras-tuner"
      ],
      "execution_count": null,
      "outputs": []
    },
    {
      "cell_type": "code",
      "metadata": {
        "id": "_leAIdFKAxAD"
      },
      "source": [
        "# Import required packages\n",
        "import tensorflow as tf\n",
        "import kerastuner as kt"
      ],
      "execution_count": null,
      "outputs": []
    },
    {
      "cell_type": "markdown",
      "metadata": {
        "id": "QMguQBX2OaP0"
      },
      "source": [
        "### 定義模型"
      ]
    },
    {
      "cell_type": "markdown",
      "metadata": {
        "id": "ZrLR-Y1xPCsW"
      },
      "source": [
        "- 當您構建用於超調的模型時，除了模型架構之外，您還定義了超參數搜索空間。您為超調設置的模型稱為`HyperModel`。\n",
        "\n",
        "- 您可以通過兩種方法定義超模型：\n",
        "    - 通過使用模型構建器功能。\n",
        "    - 通過`HyperModel`繼承 `Keras Tuner API`的類別。\n",
        "- 另外兩個預定義的HyperModel類 - [HyperXception](https://keras-team.github.io/keras-tuner/documentation/hypermodels/#hyperxception-class)和[HyperResNet](https://keras-team.github.io/keras-tuner/documentation/hypermodels/#hyperresnet-class)可用於計算機視覺應用程序。\n",
        "\n",
        "- 本範例由模型構建器函數來定義圖像分類模型。"
      ]
    },
    {
      "cell_type": "markdown",
      "metadata": {
        "id": "n1E8RgotQPpy"
      },
      "source": [
        "\n",
        "- `Int()`用來定義密集單元的搜索空間的最小值和最大值。\n",
        "\n",
        "- `Choice()`用於設定學習率。"
      ]
    },
    {
      "cell_type": "code",
      "metadata": {
        "id": "T-kTctU1OdGp"
      },
      "source": [
        "def model_builder(hp):\n",
        "\n",
        "  model = keras.Sequential()\n",
        "  model.add(keras.layers.Flatten(input_shape=(28, 28)))\n",
        "\n",
        "  # 設定搜索值範圍\n",
        "  hp_units = hp.Int('units', min_value=32, max_value=512, step=32) \n",
        "  \n",
        "  model.add(\n",
        "      keras.layers.Dense(\n",
        "          units=hp_units, \n",
        "          activation='relu', \n",
        "          name='dense_kt1'\n",
        "          )\n",
        "      )\n",
        "\n",
        "  model.add(keras.layers.Dropout(0.2))\n",
        "  model.add(keras.layers.Dense(10, activation='softmax'))\n",
        "\n",
        "  # 設定學習率範圍 0.01, 0.001, or 0.0001\n",
        "  hp_learning_rate = hp.Choice('learning_rate', values=[1e-2, 1e-3, 1e-4])\n",
        "\n",
        "  model.compile(\n",
        "      optimizer=keras.optimizers.Adam(learning_rate=hp_learning_rate),\n",
        "      loss=keras.losses.SparseCategoricalCrossentropy(),\n",
        "      metrics=['accuracy']\n",
        "      )\n",
        "  return model"
      ],
      "execution_count": null,
      "outputs": []
    },
    {
      "cell_type": "markdown",
      "metadata": {
        "id": "sqNTZ-Y6R--7"
      },
      "source": [
        "### 實例化 Tuner 並執行超調"
      ]
    },
    {
      "cell_type": "markdown",
      "metadata": {
        "id": "w7CSs6k0SbDl"
      },
      "source": [
        "- 參數設定參閱[官方文件](https://keras.io/api/keras_tuner/tuners/hyperband/)"
      ]
    },
    {
      "cell_type": "code",
      "metadata": {
        "id": "oichQFly6Y46"
      },
      "source": [
        "# Instantiate the tuner\n",
        "tuner = kt.Hyperband(\n",
        "    model_builder,\n",
        "    objective='val_accuracy',\n",
        "    max_epochs=10,\n",
        "    factor=3,\n",
        "    directory='kt_dir',\n",
        "    project_name='kt_hyperband'\n",
        "    )"
      ],
      "execution_count": null,
      "outputs": []
    },
    {
      "cell_type": "code",
      "metadata": {
        "id": "JmkJOPp5WkiG"
      },
      "source": [
        "# Display hypertuning settings\n",
        "tuner.search_space_summary()"
      ],
      "execution_count": null,
      "outputs": []
    },
    {
      "cell_type": "markdown",
      "metadata": {
        "id": "dHO0AbwMTNFv"
      },
      "source": [
        "定義了一個 [EarlyStopping](https://www.tensorflow.org/api_docs/python/tf/keras/callbacks/EarlyStopping)，當驗證的loss在5個epoch沒改善時停止訓練。"
      ]
    },
    {
      "cell_type": "code",
      "metadata": {
        "id": "WT9IkS9NEjLc"
      },
      "source": [
        "stop_early = tf.keras.callbacks.EarlyStopping(monitor='val_loss', patience=5)"
      ],
      "execution_count": null,
      "outputs": []
    },
    {
      "cell_type": "markdown",
      "metadata": {
        "id": "8JCEuUfUTs7x"
      },
      "source": [
        "執行調參，需要些時間。"
      ]
    },
    {
      "cell_type": "code",
      "metadata": {
        "id": "dSBQcTHF9cKt"
      },
      "source": [
        "# Perform hypertuning\n",
        "tuner.search(img_train, label_train, epochs=10, validation_split=0.2, callbacks=[stop_early])"
      ],
      "execution_count": null,
      "outputs": []
    },
    {
      "cell_type": "markdown",
      "metadata": {
        "id": "sv55ZTJ5T-Xy"
      },
      "source": [
        "您可以使用[get_best_hyperparameters()](https://keras-team.github.io/keras-tuner/documentation/tuners/#get_best_hyperparameters-method) 方法獲得性能最佳的模型。"
      ]
    },
    {
      "cell_type": "code",
      "metadata": {
        "id": "iG0zIuP5WuTI"
      },
      "source": [
        "# Get the optimal hyperparameters from the results\n",
        "best_hps=tuner.get_best_hyperparameters()[0]\n",
        "\n",
        "print(f\"\"\"\n",
        "The hyperparameter search is complete. The optimal number of units in the first densely-connected\n",
        "layer is {best_hps.get('units')} and the optimal learning rate for the optimizer\n",
        "is {best_hps.get('learning_rate')}.\n",
        "\"\"\")"
      ],
      "execution_count": null,
      "outputs": []
    },
    {
      "cell_type": "markdown",
      "metadata": {
        "id": "YdrTDztMUKyI"
      },
      "source": [
        "## 建立與訓練模型"
      ]
    },
    {
      "cell_type": "markdown",
      "metadata": {
        "id": "KVaYP46IUU4O"
      },
      "source": [
        "現在最佳模型儲存在`best_hps`中，即可進行自動調參後的套用作業。"
      ]
    },
    {
      "cell_type": "code",
      "metadata": {
        "id": "McO82AXOuxXh"
      },
      "source": [
        "# Build the model with the optimal hyperparameters\n",
        "h_model = tuner.hypermodel.build(best_hps)\n",
        "h_model.summary()"
      ],
      "execution_count": null,
      "outputs": []
    },
    {
      "cell_type": "code",
      "metadata": {
        "id": "l64WP7Rau1lm"
      },
      "source": [
        "# Train the hypertuned model\n",
        "h_model.fit(img_train, label_train, epochs=10, validation_split=0.2)"
      ],
      "execution_count": null,
      "outputs": []
    },
    {
      "cell_type": "code",
      "metadata": {
        "id": "9E0BTp9Ealjb"
      },
      "source": [
        "# Evaluate the hypertuned model against the test set\n",
        "h_eval_dict = h_model.evaluate(img_test, label_test, return_dict=True)"
      ],
      "execution_count": null,
      "outputs": []
    },
    {
      "cell_type": "code",
      "metadata": {
        "id": "BjVYPOw6MH5d"
      },
      "source": [
        "# Print results of the baseline and hypertuned model\n",
        "print_results(baseline_model, 'BASELINE MODEL', baseline_eval_dict)\n",
        "print_results(h_model, 'HYPERTUNED MODEL', h_eval_dict)"
      ],
      "execution_count": null,
      "outputs": []
    },
    {
      "cell_type": "markdown",
      "metadata": {
        "id": "MtuJ7oOHXjSx"
      },
      "source": [
        "## 參考\n",
        "- [Tensorflow 提供的官方教學](https://colab.research.google.com/github/tensorflow/docs/blob/master/site/en/tutorials/keras/keras_tuner.ipynb#scrollTo=sKwLOzKpFGAj)。\n",
        "- [Keras Tuner](https://keras.io/keras_tuner/)"
      ]
    }
  ]
}