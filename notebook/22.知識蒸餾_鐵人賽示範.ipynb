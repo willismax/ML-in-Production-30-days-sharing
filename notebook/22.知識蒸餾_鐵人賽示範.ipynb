{
  "nbformat": 4,
  "nbformat_minor": 0,
  "metadata": {
    "colab": {
      "name": "知識蒸餾-鐵人賽示範.ipynb",
      "provenance": [],
      "authorship_tag": "ABX9TyM7dF4VAGoI/M7NMjF6hrKB",
      "include_colab_link": true
    },
    "kernelspec": {
      "name": "python3",
      "display_name": "Python 3"
    },
    "language_info": {
      "name": "python"
    }
  },
  "cells": [
    {
      "cell_type": "markdown",
      "metadata": {
        "id": "view-in-github",
        "colab_type": "text"
      },
      "source": [
        "<a href=\"https://colab.research.google.com/github/willismax/ML-in-Production-30-days-sharing/blob/main/notebook/22.%E7%9F%A5%E8%AD%98%E8%92%B8%E9%A4%BE_%E9%90%B5%E4%BA%BA%E8%B3%BD%E7%A4%BA%E7%AF%84.ipynb\" target=\"_parent\"><img src=\"https://colab.research.google.com/assets/colab-badge.svg\" alt=\"Open In Colab\"/></a>"
      ]
    },
    {
      "cell_type": "markdown",
      "metadata": {
        "id": "m5xkz76OyYfW"
      },
      "source": [
        "# 知識蒸餾 Knowledge Distillation"
      ]
    },
    {
      "cell_type": "markdown",
      "metadata": {
        "id": "AMf-5_6yynED"
      },
      "source": [
        "- 此為鐵人賽系列文示範文件，參考[Keras官方範例](https://www.tensorflow.org/lite/performance/post_training_quantization)修改而成。"
      ]
    },
    {
      "cell_type": "markdown",
      "metadata": {
        "id": "hYlydousy6ij"
      },
      "source": [
        "- 知識蒸餾  Knowledge Distillation 為模型壓縮技術，其中student模型從可以更複雜的 teacher 模型中 \"學習\" ，實作過程包含:\n",
        "  1. 自定義一個`Distiller`類別。\n",
        "  2. 用 CNN 訓練 teacher 模型。\n",
        "  3. student 模型向 teacher 學習。\n",
        "  4. 訓練一個沒向老師學的 student_scratch 模型進行比較。\n"
      ]
    },
    {
      "cell_type": "code",
      "metadata": {
        "id": "uQohoKcHAmzj"
      },
      "source": [
        "import tensorflow as tf\n",
        "from tensorflow import keras\n",
        "from tensorflow.keras import layers\n",
        "\n",
        "import numpy as np\n",
        "import os"
      ],
      "execution_count": 1,
      "outputs": []
    },
    {
      "cell_type": "code",
      "metadata": {
        "id": "9g9Ji_UEuXyS"
      },
      "source": [
        "ACCURACY = {}"
      ],
      "execution_count": 2,
      "outputs": []
    },
    {
      "cell_type": "markdown",
      "metadata": {
        "id": "ZC3VkJKoAMfu"
      },
      "source": [
        "## 準備資料"
      ]
    },
    {
      "cell_type": "markdown",
      "metadata": {
        "id": "VBpUaNvRkYdI"
      },
      "source": [
        "- 模型採用`tf.keras.datasets.mnist`，用CNN進行建模。"
      ]
    },
    {
      "cell_type": "code",
      "metadata": {
        "colab": {
          "base_uri": "https://localhost:8080/"
        },
        "id": "u6rKXfkpd6lN",
        "outputId": "f18c503e-d4e9-4c16-bb42-b0afb4d78dc3"
      },
      "source": [
        "# Load MNIST dataset\n",
        "mnist = tf.keras.datasets.mnist\n",
        "(train_images, train_labels), (test_images, test_labels) = mnist.load_data()\n",
        "\n",
        "# Normalize the input image so that each pixel value is between 0 to 1.\n",
        "train_images = train_images / 255.0\n",
        "test_images = test_images / 255.0"
      ],
      "execution_count": 3,
      "outputs": [
        {
          "output_type": "stream",
          "name": "stdout",
          "text": [
            "Downloading data from https://storage.googleapis.com/tensorflow/tf-keras-datasets/mnist.npz\n",
            "11493376/11490434 [==============================] - 0s 0us/step\n",
            "11501568/11490434 [==============================] - 0s 0us/step\n"
          ]
        }
      ]
    },
    {
      "cell_type": "markdown",
      "metadata": {
        "id": "-6dgvkwUBBCo"
      },
      "source": [
        "## 建立Distiller類別"
      ]
    },
    {
      "cell_type": "markdown",
      "metadata": {
        "id": "5xaIYCPj0amj"
      },
      "source": [
        "- 此直接使用 Keras 官方範例定義的 `Distiller` 類別。\n",
        "- 該類別繼承於 `th.keras.Model`，並改寫以下方法:\n",
        "  - `compile`：這個模型需要一些額外的參數來編譯，比如老師和學生的損失，alpha 和 temp 。\n",
        "  - `train_step`：控制模型的訓練方式。這將是真正的知識蒸餾邏輯所在。這個方法就是你做的時候調用的方法model.fit。\n",
        "  - `test_step`：控制模型的評估。這個方法就是你做的時候調用的方法model.evaluate。"
      ]
    },
    {
      "cell_type": "code",
      "metadata": {
        "id": "ohxEHQkMBJfN"
      },
      "source": [
        "class Distiller(keras.Model):\n",
        "    def __init__(self, student, teacher):\n",
        "        super(Distiller, self).__init__()\n",
        "        self.teacher = teacher\n",
        "        self.student = student\n",
        "\n",
        "    def compile(\n",
        "        self,\n",
        "        optimizer,\n",
        "        metrics,\n",
        "        student_loss_fn,\n",
        "        distillation_loss_fn,\n",
        "        alpha=0.1,\n",
        "        temperature=3,\n",
        "    ):\n",
        "        \"\"\" Configure the distiller.\n",
        "\n",
        "        Args:\n",
        "            optimizer: Keras optimizer for the student weights\n",
        "            metrics: Keras metrics for evaluation\n",
        "            student_loss_fn: Loss function of difference between student\n",
        "                predictions and ground-truth\n",
        "            distillation_loss_fn: Loss function of difference between soft\n",
        "                student predictions and soft teacher predictions\n",
        "            alpha: weight to student_loss_fn and 1-alpha to distillation_loss_fn\n",
        "            temperature: Temperature for softening probability distributions.\n",
        "                Larger temperature gives softer distributions.\n",
        "        \"\"\"\n",
        "        super(Distiller, self).compile(optimizer=optimizer, metrics=metrics)\n",
        "        self.student_loss_fn = student_loss_fn\n",
        "        self.distillation_loss_fn = distillation_loss_fn\n",
        "        self.alpha = alpha\n",
        "        self.temperature = temperature\n",
        "\n",
        "    def train_step(self, data):\n",
        "        # Unpack data\n",
        "        x, y = data\n",
        "\n",
        "        # Forward pass of teacher\n",
        "        teacher_predictions = self.teacher(x, training=False)\n",
        "\n",
        "        with tf.GradientTape() as tape:\n",
        "            # Forward pass of student\n",
        "            student_predictions = self.student(x, training=True)\n",
        "\n",
        "            # Compute losses\n",
        "            student_loss = self.student_loss_fn(y, student_predictions)\n",
        "            distillation_loss = self.distillation_loss_fn(\n",
        "                tf.nn.softmax(teacher_predictions / self.temperature, axis=1),\n",
        "                tf.nn.softmax(student_predictions / self.temperature, axis=1),\n",
        "            )\n",
        "            loss = self.alpha * student_loss + (\n",
        "                1 - self.alpha) * distillation_loss\n",
        "\n",
        "        # Compute gradients\n",
        "        trainable_vars = self.student.trainable_variables\n",
        "        gradients = tape.gradient(loss, trainable_vars)\n",
        "\n",
        "        # Update weights\n",
        "        self.optimizer.apply_gradients(zip(gradients, trainable_vars))\n",
        "\n",
        "        # Update the metrics configured in `compile()`.\n",
        "        self.compiled_metrics.update_state(y, student_predictions)\n",
        "\n",
        "        # Return a dict of performance\n",
        "        results = {m.name: m.result() for m in self.metrics}\n",
        "        results.update(\n",
        "            {\"student_loss\": student_loss, \"distillation_loss\": distillation_loss}\n",
        "        )\n",
        "        return results\n",
        "\n",
        "    def test_step(self, data):\n",
        "        # Unpack the data\n",
        "        x, y = data\n",
        "\n",
        "        # Compute predictions\n",
        "        y_prediction = self.student(x, training=False)\n",
        "\n",
        "        # Calculate the loss\n",
        "        student_loss = self.student_loss_fn(y, y_prediction)\n",
        "\n",
        "        # Update the metrics.\n",
        "        self.compiled_metrics.update_state(y, y_prediction)\n",
        "\n",
        "        # Return a dict of performance\n",
        "        results = {m.name: m.result() for m in self.metrics}\n",
        "        results.update({\"student_loss\": student_loss})\n",
        "        return results\n"
      ],
      "execution_count": 4,
      "outputs": []
    },
    {
      "cell_type": "markdown",
      "metadata": {
        "id": "JcQ5byqSBQYO"
      },
      "source": [
        "## 建立老師與學生模型"
      ]
    },
    {
      "cell_type": "markdown",
      "metadata": {
        "id": "YXO_1s9C1okk"
      },
      "source": [
        "- 這裡定義大模型與小模型，老師使用大模型，學生使用小模型。\n",
        "- 有兩個重要的事情需要注意：\n",
        "  - 最後一層沒有使用激勵函數 softmax ，因為知識蒸餾需要原始權重特徵。\n",
        "  - 通過 dropout 層的正則化將應用於教師而不是學生。這是因為學生應該能夠通過蒸餾過程學習這種正則化。\n",
        "\n",
        "- 可以將學生模型視為教師模型的簡化（或壓縮）版本。"
      ]
    },
    {
      "cell_type": "code",
      "metadata": {
        "id": "n6i7GamqnMK4"
      },
      "source": [
        "def big_model_builder():\n",
        "  keras = tf.keras\n",
        "\n",
        "  model = keras.Sequential([\n",
        "    keras.layers.InputLayer(input_shape=(28, 28)),\n",
        "    keras.layers.Reshape(target_shape=(28, 28, 1)),\n",
        "    keras.layers.Conv2D(\n",
        "        filters=12, kernel_size=(3, 3), activation='relu'),\n",
        "    keras.layers.MaxPooling2D(\n",
        "        pool_size=(2, 2)),\n",
        "    keras.layers.Conv2D(\n",
        "        filters=12, kernel_size=(3, 3), activation='relu'),\n",
        "    keras.layers.MaxPooling2D(pool_size=(2, 2)),\n",
        "    keras.layers.Flatten(),\n",
        "    keras.layers.Dense(10)\n",
        "  ])\n",
        "\n",
        "\n",
        "  return model\n",
        "\n",
        "\n",
        "def small_model_builder():\n",
        "  keras = tf.keras\n",
        "\n",
        "  model = keras.Sequential([\n",
        "    keras.layers.InputLayer(input_shape=(28, 28)),\n",
        "    keras.layers.Reshape(target_shape=(28, 28, 1)),\n",
        "    keras.layers.Conv2D(\n",
        "        filters=12, kernel_size=(3, 3), activation='relu'),\n",
        "    keras.layers.MaxPooling2D(pool_size=(2, 2)),\n",
        "    keras.layers.Flatten(),\n",
        "    keras.layers.Dense(10)\n",
        "  ])\n",
        "\n",
        "\n",
        "\n",
        "  return model"
      ],
      "execution_count": 5,
      "outputs": []
    },
    {
      "cell_type": "code",
      "metadata": {
        "id": "Sp-K3DZOnzrZ"
      },
      "source": [
        "teacher = big_model_builder()\n",
        "\n",
        "student = small_model_builder()\n",
        "\n",
        "student_scratch = small_model_builder()"
      ],
      "execution_count": 6,
      "outputs": []
    },
    {
      "cell_type": "markdown",
      "metadata": {
        "id": "KtAvzXcNBa6R"
      },
      "source": [
        "## 訓練老師"
      ]
    },
    {
      "cell_type": "code",
      "metadata": {
        "colab": {
          "base_uri": "https://localhost:8080/"
        },
        "id": "GjhPt9YRo3ZM",
        "outputId": "b4a2e943-ebdd-4a6b-a52e-98f543373313"
      },
      "source": [
        "# Train teacher as usual\n",
        "teacher.compile(\n",
        "    optimizer=keras.optimizers.Adam(),\n",
        "    loss=keras.losses.SparseCategoricalCrossentropy(from_logits=True),\n",
        "    metrics=[keras.metrics.SparseCategoricalAccuracy()],\n",
        ")\n",
        "teacher.summary()\n",
        "\n",
        "# Train and evaluate teacher on data.\n",
        "teacher.fit(train_images, train_labels, epochs=2)\n",
        "_ , ACCURACY['teacher model'] = teacher.evaluate(test_images, test_labels)"
      ],
      "execution_count": 7,
      "outputs": [
        {
          "output_type": "stream",
          "name": "stdout",
          "text": [
            "Model: \"sequential\"\n",
            "_________________________________________________________________\n",
            " Layer (type)                Output Shape              Param #   \n",
            "=================================================================\n",
            " reshape (Reshape)           (None, 28, 28, 1)         0         \n",
            "                                                                 \n",
            " conv2d (Conv2D)             (None, 26, 26, 12)        120       \n",
            "                                                                 \n",
            " max_pooling2d (MaxPooling2D  (None, 13, 13, 12)       0         \n",
            " )                                                               \n",
            "                                                                 \n",
            " conv2d_1 (Conv2D)           (None, 11, 11, 12)        1308      \n",
            "                                                                 \n",
            " max_pooling2d_1 (MaxPooling  (None, 5, 5, 12)         0         \n",
            " 2D)                                                             \n",
            "                                                                 \n",
            " flatten (Flatten)           (None, 300)               0         \n",
            "                                                                 \n",
            " dense (Dense)               (None, 10)                3010      \n",
            "                                                                 \n",
            "=================================================================\n",
            "Total params: 4,438\n",
            "Trainable params: 4,438\n",
            "Non-trainable params: 0\n",
            "_________________________________________________________________\n",
            "Epoch 1/2\n",
            "1875/1875 [==============================] - 32s 17ms/step - loss: 0.2817 - sparse_categorical_accuracy: 0.9174\n",
            "Epoch 2/2\n",
            "1875/1875 [==============================] - 21s 11ms/step - loss: 0.0879 - sparse_categorical_accuracy: 0.9732\n",
            "313/313 [==============================] - 2s 5ms/step - loss: 0.0744 - sparse_categorical_accuracy: 0.9764\n"
          ]
        }
      ]
    },
    {
      "cell_type": "markdown",
      "metadata": {
        "id": "ii7_-VCSBgCE"
      },
      "source": [
        "## 透過知識蒸餾訓練學生"
      ]
    },
    {
      "cell_type": "markdown",
      "metadata": {
        "id": "rKvqn3uh2m9m"
      },
      "source": [
        "- 要執行知識提煉過程，您將使用您之前compline的模型。\n",
        "- 為此，首先創建`Distiller`類別的實例並傳入學生和教師模型`distiller = Distiller(student=student, teacher=teacher)\n",
        "`。然後用合適的參數編譯它並訓練它！\n",
        "\n",
        "- 老師可以用更高的epochs，學生會向老師學習。"
      ]
    },
    {
      "cell_type": "code",
      "metadata": {
        "colab": {
          "base_uri": "https://localhost:8080/"
        },
        "id": "7ukGU3vrBimO",
        "outputId": "6c578924-d885-4bf3-f88f-0bf100318f09"
      },
      "source": [
        "# Initialize and compile distiller\n",
        "distiller = Distiller(student=student, teacher=teacher)\n",
        "distiller.compile(\n",
        "    optimizer=keras.optimizers.Adam(),\n",
        "    metrics=[keras.metrics.SparseCategoricalAccuracy()],\n",
        "    student_loss_fn=keras.losses.SparseCategoricalCrossentropy(from_logits=True),\n",
        "    distillation_loss_fn=keras.losses.KLDivergence(),\n",
        "    alpha=0.1,\n",
        "    temperature=10,\n",
        ")\n",
        "\n",
        "# Distill teacher to student\n",
        "distiller.fit(\n",
        "    train_images, \n",
        "    train_labels, \n",
        "    epochs=2, \n",
        "    shuffle=False\n",
        "    )\n",
        "\n",
        "# Evaluate student on test dataset\n",
        "ACCURACY['distiller student model'], _ = distiller.evaluate(test_images, test_labels)\n"
      ],
      "execution_count": 8,
      "outputs": [
        {
          "output_type": "stream",
          "name": "stdout",
          "text": [
            "Epoch 1/2\n",
            "1875/1875 [==============================] - 23s 12ms/step - sparse_categorical_accuracy: 0.9185 - student_loss: 0.2854 - distillation_loss: 0.0346\n",
            "Epoch 2/2\n",
            "1875/1875 [==============================] - 22s 12ms/step - sparse_categorical_accuracy: 0.9658 - student_loss: 0.1158 - distillation_loss: 0.0106\n",
            "313/313 [==============================] - 1s 4ms/step - sparse_categorical_accuracy: 0.9710 - student_loss: 0.0920\n"
          ]
        }
      ]
    },
    {
      "cell_type": "code",
      "metadata": {
        "colab": {
          "base_uri": "https://localhost:8080/"
        },
        "id": "LFx_LT2fGOQR",
        "outputId": "9b0512b8-8379-447a-a23f-45843408fcfa"
      },
      "source": [
        "ACCURACY"
      ],
      "execution_count": 9,
      "outputs": [
        {
          "output_type": "execute_result",
          "data": {
            "text/plain": [
              "{'distiller student model': 0.9710000157356262,\n",
              " 'teacher model': 0.9764000177383423}"
            ]
          },
          "metadata": {},
          "execution_count": 9
        }
      ]
    },
    {
      "cell_type": "markdown",
      "metadata": {
        "id": "Hv0KVcMMBxBl"
      },
      "source": [
        "## 比較模型 - 從頭訓練學生"
      ]
    },
    {
      "cell_type": "code",
      "metadata": {
        "colab": {
          "base_uri": "https://localhost:8080/"
        },
        "id": "zw6VowE-B5zk",
        "outputId": "8738ad95-3049-4262-8476-ddbbaddb1f55"
      },
      "source": [
        "# Train student as doen usually\n",
        "student_scratch.compile(\n",
        "    optimizer=keras.optimizers.Adam(),\n",
        "    loss=keras.losses.SparseCategoricalCrossentropy(from_logits=True),\n",
        "    metrics=[keras.metrics.SparseCategoricalAccuracy()],\n",
        ")\n",
        "student_scratch.summary()\n",
        "\n",
        "# Train and evaluate student trained from scratch.\n",
        "student_scratch.fit(\n",
        "    train_images, \n",
        "    train_labels, \n",
        "    epochs=2, \n",
        "    shuffle=False\n",
        "    )\n",
        "# student_scratch.evaluate(x_test, y_test)\n",
        "_, ACCURACY['student from scrath model'] = student_scratch.evaluate(test_images, test_labels)"
      ],
      "execution_count": 10,
      "outputs": [
        {
          "output_type": "stream",
          "name": "stdout",
          "text": [
            "Model: \"sequential_2\"\n",
            "_________________________________________________________________\n",
            " Layer (type)                Output Shape              Param #   \n",
            "=================================================================\n",
            " reshape_2 (Reshape)         (None, 28, 28, 1)         0         \n",
            "                                                                 \n",
            " conv2d_3 (Conv2D)           (None, 26, 26, 12)        120       \n",
            "                                                                 \n",
            " max_pooling2d_3 (MaxPooling  (None, 13, 13, 12)       0         \n",
            " 2D)                                                             \n",
            "                                                                 \n",
            " flatten_2 (Flatten)         (None, 2028)              0         \n",
            "                                                                 \n",
            " dense_2 (Dense)             (None, 10)                20290     \n",
            "                                                                 \n",
            "=================================================================\n",
            "Total params: 20,410\n",
            "Trainable params: 20,410\n",
            "Non-trainable params: 0\n",
            "_________________________________________________________________\n",
            "Epoch 1/2\n",
            "1875/1875 [==============================] - 16s 9ms/step - loss: 0.2690 - sparse_categorical_accuracy: 0.9265\n",
            "Epoch 2/2\n",
            "1875/1875 [==============================] - 16s 8ms/step - loss: 0.1038 - sparse_categorical_accuracy: 0.9701\n",
            "313/313 [==============================] - 1s 4ms/step - loss: 0.0878 - sparse_categorical_accuracy: 0.9713\n"
          ]
        }
      ]
    },
    {
      "cell_type": "markdown",
      "metadata": {
        "id": "Lna5cgmN3hw2"
      },
      "source": [
        "## 小結"
      ]
    },
    {
      "cell_type": "code",
      "metadata": {
        "colab": {
          "base_uri": "https://localhost:8080/"
        },
        "id": "2-muZGt-HARU",
        "outputId": "3c6a0a0f-c5b2-4a71-f593-bacc197bf810"
      },
      "source": [
        "ACCURACY"
      ],
      "execution_count": 11,
      "outputs": [
        {
          "output_type": "execute_result",
          "data": {
            "text/plain": [
              "{'distiller student model': 0.9710000157356262,\n",
              " 'student from scrath model': 0.9713000059127808,\n",
              " 'teacher model': 0.9764000177383423}"
            ]
          },
          "metadata": {},
          "execution_count": 11
        }
      ]
    },
    {
      "cell_type": "markdown",
      "metadata": {
        "id": "tr2RMxHw3kIX"
      },
      "source": [
        "- 老師的準確率應會高於學生，畢竟可以採用大模型、更多的epoch等方式優化。\n",
        "- 「接受知識蒸餾的學生」表現通常會優於「自己從頭開始的學生」。\n",
        "- 學生的模型雖然較簡易，知識蒸餾甚至會青出於藍勝於藍。"
      ]
    },
    {
      "cell_type": "markdown",
      "metadata": {
        "id": "_ZNIS1liABHZ"
      },
      "source": [
        "## 參考\n",
        "- https://keras.io/examples/vision/knowledge_distillation/"
      ]
    }
  ]
}